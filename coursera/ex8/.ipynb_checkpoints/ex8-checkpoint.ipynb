{
 "cells": [
  {
   "cell_type": "markdown",
   "metadata": {},
   "source": [
    "# Anomaly Detection\n",
    "\n",
    "In this exercise, we will be implementing an anomaly detection algorithm to detect anomalous behavior in server computers. We are going to first start out with a 2D dataset so that we can better visualize the algorithm and then later on move towards a more high dimensional dataset. Let's first load in our dataset."
   ]
  },
  {
   "cell_type": "code",
   "execution_count": 1,
   "metadata": {},
   "outputs": [],
   "source": [
    "import numpy as np\n",
    "import pandas as pd\n",
    "import matplotlib.pyplot as plt\n",
    "from scipy.io import loadmat\n",
    "from sklearn import metrics"
   ]
  },
  {
   "cell_type": "code",
   "execution_count": 13,
   "metadata": {},
   "outputs": [
    {
     "data": {
      "text/plain": [
       "(307, 2)"
      ]
     },
     "execution_count": 13,
     "metadata": {},
     "output_type": "execute_result"
    }
   ],
   "source": [
    "anomaly_data = loadmat(\"ex8data1.mat\")\n",
    "X = anomaly_data['X']\n",
    "Xval = anomaly_data['Xval']\n",
    "yval = anomaly_data['yval']\n",
    "X.shape"
   ]
  },
  {
   "cell_type": "code",
   "execution_count": 14,
   "metadata": {},
   "outputs": [
    {
     "data": {
      "text/plain": [
       "Text(0, 0.5, 'Throughput (mb/s)')"
      ]
     },
     "execution_count": 14,
     "metadata": {},
     "output_type": "execute_result"
    },
    {
     "data": {
      "image/png": "[encoded data removed]",
      "text/plain": [
       "<Figure size 432x288 with 1 Axes>"
      ]
     },
     "metadata": {
      "needs_background": "light"
     },
     "output_type": "display_data"
    }
   ],
   "source": [
    "fig, ax = plt.subplots()\n",
    "ax.scatter(x=X[:, 0], y=X[:, 1])\n",
    "plt.xlabel(\"Latency (ms)\")\n",
    "plt.ylabel(\"Throughput (mb/s)\")"
   ]
  },
  {
   "cell_type": "markdown",
   "metadata": {},
   "source": [
    "As we can see, most of the examples seem to be normal, but there do seem to be some anomalies. To perform anomaly detection, we will first need to fit a model to the data's distribution. The following function will find the mean and standard deviation of each feature and output them in two n-dimensional vectors. "
   ]
  },
  {
   "cell_type": "code",
   "execution_count": 15,
   "metadata": {},
   "outputs": [],
   "source": [
    "def estimateGaussian(X):\n",
    "    m, n = X.shape\n",
    "    means = np.zeros(n)\n",
    "    stds = np.zeros(n)\n",
    "    \n",
    "    for i in range(n):\n",
    "        means[i] = np.mean(X[:,i])\n",
    "        stds[i] = np.std(X[:,i])\n",
    "    return means, stds"
   ]
  },
  {
   "cell_type": "code",
   "execution_count": 16,
   "metadata": {},
   "outputs": [],
   "source": [
    "mean, std = estimateGaussian(X)"
   ]
  },
  {
   "cell_type": "markdown",
   "metadata": {},
   "source": [
    "From this, we can create a function that outputs a vector that has the p value associated to each example in the passed in dataset."
   ]
  },
  {
   "cell_type": "code",
   "execution_count": 17,
   "metadata": {},
   "outputs": [],
   "source": [
    "def pValue(X, mean, std):\n",
    "    initial = (1/(np.sqrt(2*np.pi)*std))*np.exp(-(X-mean)**2/(2*(std**2)))\n",
    "    m, n = initial.shape\n",
    "    p = np.zeros((m, 1))\n",
    "    \n",
    "    p = initial[:,[0]]\n",
    "    for i in range(1, n):\n",
    "        p *= initial[:,[i]]\n",
    "    return p"
   ]
  },
  {
   "cell_type": "markdown",
   "metadata": {},
   "source": [
    "Our next step is to choose a threshold. The threshold is used to determine if an example is an anomaly or not. To do this, we will use the cross validation set, which has examples labeled as anomalous or not. We will test various values for the threshold and whichever has the best F score compared to the validation set will be the thershold we will use. "
   ]
  },
  {
   "cell_type": "code",
   "execution_count": 48,
   "metadata": {},
   "outputs": [],
   "source": [
    "def chooseThreshold(yval, pval):\n",
    "    bestEpsilon = 0\n",
    "    bestF1 = 0\n",
    "\n",
    "    stepsize = (np.amax(pval) - np.amin(pval)) / 1000\n",
    "    for epsilon in np.arange(np.amin(pval), np.amax(pval), stepsize):\n",
    "        ypred = (pval < epsilon).astype(int)\n",
    "        F1 = metrics.f1_score(yval, ypred)\n",
    "        if F1 > bestF1:\n",
    "            bestF1 = F1\n",
    "            bestEpsilon = epsilon\n",
    "        \n",
    "    return bestEpsilon, bestF1"
   ]
  },
  {
   "cell_type": "code",
   "execution_count": 52,
   "metadata": {},
   "outputs": [],
   "source": [
    "opt_epsilon, opt_f1 = chooseThreshold(yval, pValue(Xval, mean, std))"
   ]
  },
  {
   "cell_type": "markdown",
   "metadata": {},
   "source": [
    "Now that we have the optimal threshold, we can replot our training set with the labeled anomalies."
   ]
  },
  {
   "cell_type": "code",
   "execution_count": 67,
   "metadata": {},
   "outputs": [
    {
     "data": {
      "text/plain": [
       "Text(0, 0.5, 'Throughput (mb/s)')"
      ]
     },
     "execution_count": 67,
     "metadata": {},
     "output_type": "execute_result"
    },
    {
     "data": {
      "image/png": "[encoded data removed]",
      "text/plain": [
       "<Figure size 432x288 with 1 Axes>"
      ]
     },
     "metadata": {
      "needs_background": "light"
     },
     "output_type": "display_data"
    }
   ],
   "source": [
    "predicted = (pValue(X, mean, std) < opt_epsilon).astype(int).flatten()\n",
    "\n",
    "fig, ax = plt.subplots()\n",
    "ax.scatter(x=X[:, 0], y=X[:, 1], c=predicted)\n",
    "plt.xlabel(\"Latency (ms)\")\n",
    "plt.ylabel(\"Throughput (mb/s)\")"
   ]
  },
  {
   "cell_type": "markdown",
   "metadata": {},
   "source": [
    "As you can see, our anomaly prediction algorithm seems to correctly predict the anomalous examples."
   ]
  },
  {
   "cell_type": "markdown",
   "metadata": {},
   "source": [
    "Now that we know that our anomaly prediciton algorithm works, we can test it on a higher dimensional dataset. Let's load that dataset in. "
   ]
  },
  {
   "cell_type": "code",
   "execution_count": 71,
   "metadata": {},
   "outputs": [
    {
     "data": {
      "text/plain": [
       "(1000, 11)"
      ]
     },
     "metadata": {},
     "output_type": "display_data"
    },
    {
     "data": {
      "text/plain": [
       "(100, 11)"
      ]
     },
     "metadata": {},
     "output_type": "display_data"
    },
    {
     "data": {
      "text/plain": [
       "(100, 1)"
      ]
     },
     "metadata": {},
     "output_type": "display_data"
    }
   ],
   "source": [
    "anomaly_data = loadmat('ex8data2.mat')\n",
    "X = anomaly_data['X']\n",
    "Xval = anomaly_data['Xval']\n",
    "yval = anomaly_data['yval']\n",
    "display(X.shape, Xval.shape, yval.shape)"
   ]
  },
  {
   "cell_type": "markdown",
   "metadata": {},
   "source": [
    "The goal here is the same as our 2D dataset: find the optimal threshold value."
   ]
  },
  {
   "cell_type": "code",
   "execution_count": 89,
   "metadata": {},
   "outputs": [
    {
     "data": {
      "text/plain": [
       "1.3772288907613583e-18"
      ]
     },
     "metadata": {},
     "output_type": "display_data"
    },
    {
     "data": {
      "text/plain": [
       "117"
      ]
     },
     "metadata": {},
     "output_type": "display_data"
    }
   ],
   "source": [
    "mean, std = estimateGaussian(X)\n",
    "pval = pValue(Xval, mean, std)\n",
    "opt_epsilon, opt_f1 = chooseThreshold(yval, pval)\n",
    "\n",
    "predicted = (pValue(X, mean, std) < opt_epsilon).astype(int).flatten()\n",
    "num_anomalies = len(predicted[predicted == 1])\n",
    "\n",
    "display(opt_epsilon, num_anomalies)"
   ]
  },
  {
   "cell_type": "code",
   "execution_count": null,
   "metadata": {},
   "outputs": [],
   "source": []
  },
  {
   "cell_type": "code",
   "execution_count": null,
   "metadata": {},
   "outputs": [],
   "source": []
  }
 ],
 "metadata": {
  "kernelspec": {
   "display_name": "Python 3",
   "language": "python",
   "name": "python3"
  },
  "language_info": {
   "codemirror_mode": {
    "name": "ipython",
    "version": 3
   },
   "file_extension": ".py",
   "mimetype": "text/x-python",
   "name": "python",
   "nbconvert_exporter": "python",
   "pygments_lexer": "ipython3",
   "version": "3.7.1"
  }
 },
 "nbformat": 4,
 "nbformat_minor": 2
}
