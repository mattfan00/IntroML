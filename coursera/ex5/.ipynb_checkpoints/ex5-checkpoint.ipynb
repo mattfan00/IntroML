{
 "cells": [
  {
   "cell_type": "markdown",
   "metadata": {},
   "source": [
    "In the first half of the exercise, we will implement regularized linear regression to predict the amaount of water flowing out of a dam using the change of water level in a reservoir. Let's first load in the dataset."
   ]
  },
  {
   "cell_type": "code",
   "execution_count": 1,
   "metadata": {},
   "outputs": [],
   "source": [
    "import numpy as np\n",
    "import pandas as pd\n",
    "import matplotlib.pyplot as plt\n",
    "from scipy.io import loadmat\n",
    "from scipy import optimize"
   ]
  },
  {
   "cell_type": "code",
   "execution_count": 2,
   "metadata": {},
   "outputs": [
    {
     "data": {
      "text/plain": [
       "(12, 2)"
      ]
     },
     "metadata": {},
     "output_type": "display_data"
    },
    {
     "data": {
      "text/plain": [
       "(12, 1)"
      ]
     },
     "metadata": {},
     "output_type": "display_data"
    },
    {
     "data": {
      "text/plain": [
       "(2,)"
      ]
     },
     "metadata": {},
     "output_type": "display_data"
    }
   ],
   "source": [
    "data = loadmat('ex5data1.mat')\n",
    "Xtrain = data['X']\n",
    "Xtrain = np.insert(Xtrain, 0, 1, axis=1)\n",
    "ytrain = data['y']\n",
    "theta = np.array([1, 1])\n",
    "regParam = 1\n",
    "display(Xtrain.shape, ytrain.shape, theta.shape)"
   ]
  },
  {
   "cell_type": "code",
   "execution_count": 3,
   "metadata": {},
   "outputs": [
    {
     "data": {
      "text/plain": [
       "Text(0, 0.5, 'Water flowing out of the dam (y)')"
      ]
     },
     "execution_count": 3,
     "metadata": {},
     "output_type": "execute_result"
    },
    {
     "data": {
      "image/png": "[encoded data removed]",
      "text/plain": [
       "<Figure size 432x288 with 1 Axes>"
      ]
     },
     "metadata": {
      "needs_background": "light"
     },
     "output_type": "display_data"
    }
   ],
   "source": [
    "plt.scatter(Xtrain[:,1], ytrain)\n",
    "plt.xlabel('Change in water level (x)')\n",
    "plt.ylabel('Water flowing out of the dam (y)')"
   ]
  },
  {
   "cell_type": "markdown",
   "metadata": {},
   "source": [
    "Above is a graph of our data. In this first half of the exercise, we will be fitting a straight line to our data, and then later on use polynomial regression to find a better fit to the data. To accomplish the first part, lets implement our regularized linear regression cost function and gradient."
   ]
  },
  {
   "cell_type": "code",
   "execution_count": 4,
   "metadata": {},
   "outputs": [],
   "source": [
    "def regLinearCost(theta, X, y, regParam): \n",
    "    m, n = X.shape\n",
    "    theta = np.reshape(theta, (n,1))\n",
    "    h = X @ theta\n",
    "    inner = (h - y)**2\n",
    "    left = inner.sum()/(2*m)\n",
    "    reg_theta = theta.copy() \n",
    "    reg_theta[0] = 0\n",
    "    reg = (regParam/(2*m))*(reg_theta**2).sum()\n",
    "    return left + reg"
   ]
  },
  {
   "cell_type": "code",
   "execution_count": 5,
   "metadata": {},
   "outputs": [
    {
     "data": {
      "text/plain": [
       "303.9931922202643"
      ]
     },
     "execution_count": 5,
     "metadata": {},
     "output_type": "execute_result"
    }
   ],
   "source": [
    "regLinearCost(theta, Xtrain, ytrain, 1)"
   ]
  },
  {
   "cell_type": "code",
   "execution_count": 6,
   "metadata": {},
   "outputs": [],
   "source": [
    "def regLinearGradient(theta, X, y, regParam):\n",
    "    m, n = X.shape\n",
    "    theta = np.reshape(theta, (n,1))\n",
    "    h = X @ theta\n",
    "    inner = h - y\n",
    "    inner = X.T @ (h - y)\n",
    "    outer = inner/m\n",
    "    reg_theta = theta.copy()\n",
    "    reg_theta[0] = 0\n",
    "    reg = (regParam/m)*reg_theta\n",
    "    return (outer + reg).flatten()"
   ]
  },
  {
   "cell_type": "code",
   "execution_count": 7,
   "metadata": {},
   "outputs": [
    {
     "data": {
      "text/plain": [
       "array([-15.30301567, 598.25074417])"
      ]
     },
     "execution_count": 7,
     "metadata": {},
     "output_type": "execute_result"
    }
   ],
   "source": [
    "regLinearGradient(theta, Xtrain, ytrain, 1)"
   ]
  },
  {
   "cell_type": "markdown",
   "metadata": {},
   "source": [
    "Now that our cost function and gradient are working correctly, we will compute the optimal values of $\\theta$"
   ]
  },
  {
   "cell_type": "code",
   "execution_count": 10,
   "metadata": {},
   "outputs": [
    {
     "name": "stdout",
     "output_type": "stream",
     "text": [
      "Optimization terminated successfully.\n",
      "         Current function value: 22.379542\n",
      "         Iterations: 18\n",
      "         Function evaluations: 28\n",
      "         Gradient evaluations: 28\n"
     ]
    }
   ],
   "source": [
    "opt_theta = optimize.fmin_cg(regLinearCost, theta, fprime=regLinearGradient, args=(Xtrain, ytrain, regParam))"
   ]
  },
  {
   "cell_type": "code",
   "execution_count": null,
   "metadata": {},
   "outputs": [],
   "source": [
    "x = np.linspace(Xtrain[:,1].min(), Xtrain[:,1].max(), 100)\n",
    "f = opt_theta[0] + (opt_theta[1] * x)\n",
    "\n",
    "fig, ax = plt.subplots(figsize=(12,8))\n",
    "ax.plot(x, f, 'r', label='Prediction')\n",
    "ax.scatter(Xtrain[:,1], ytrain)\n",
    "ax.legend(loc=2)\n",
    "ax.set_xlabel('Population')\n",
    "ax.set_ylabel('Profit')\n",
    "ax.set_title('Predicted Profit vs. Population Size')"
   ]
  }
 ],
 "metadata": {
  "kernelspec": {
   "display_name": "Python 3",
   "language": "python",
   "name": "python3"
  },
  "language_info": {
   "codemirror_mode": {
    "name": "ipython",
    "version": 3
   },
   "file_extension": ".py",
   "mimetype": "text/x-python",
   "name": "python",
   "nbconvert_exporter": "python",
   "pygments_lexer": "ipython3",
   "version": "3.7.1"
  }
 },
 "nbformat": 4,
 "nbformat_minor": 2
}
