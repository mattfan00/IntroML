{
 "cells": [
  {
   "cell_type": "markdown",
   "metadata": {},
   "source": [
    "# Logistic Regression\n",
    "\n",
    "In this exercise, we will be implementing a logistic regression model to predict whether a student gets admitted inot a university. Provided, is a dataset that has the applicant's scores on two exams and the admissions decision. First, lets load in the dataset. "
   ]
  },
  {
   "cell_type": "code",
   "execution_count": 1,
   "metadata": {},
   "outputs": [
    {
     "data": {
      "text/plain": [
       "{'divide': 'warn', 'over': 'warn', 'under': 'ignore', 'invalid': 'warn'}"
      ]
     },
     "execution_count": 1,
     "metadata": {},
     "output_type": "execute_result"
    }
   ],
   "source": [
    "import pandas as pd\n",
    "import numpy as np\n",
    "import matplotlib.pyplot as plt\n",
    "import scipy.optimize as opt\n",
    "np.seterr(divide = 'ignore', invalid='ignore') "
   ]
  },
  {
   "cell_type": "code",
   "execution_count": 2,
   "metadata": {},
   "outputs": [
    {
     "data": {
      "text/html": [
       "<div>\n",
       "<style scoped>\n",
       "    .dataframe tbody tr th:only-of-type {\n",
       "        vertical-align: middle;\n",
       "    }\n",
       "\n",
       "    .dataframe tbody tr th {\n",
       "        vertical-align: top;\n",
       "    }\n",
       "\n",
       "    .dataframe thead th {\n",
       "        text-align: right;\n",
       "    }\n",
       "</style>\n",
       "<table border=\"1\" class=\"dataframe\">\n",
       "  <thead>\n",
       "    <tr style=\"text-align: right;\">\n",
       "      <th></th>\n",
       "      <th>exam_1_score</th>\n",
       "      <th>exam_2_score</th>\n",
       "      <th>admitted</th>\n",
       "    </tr>\n",
       "  </thead>\n",
       "  <tbody>\n",
       "    <tr>\n",
       "      <th>0</th>\n",
       "      <td>34.623660</td>\n",
       "      <td>78.024693</td>\n",
       "      <td>0</td>\n",
       "    </tr>\n",
       "    <tr>\n",
       "      <th>1</th>\n",
       "      <td>30.286711</td>\n",
       "      <td>43.894998</td>\n",
       "      <td>0</td>\n",
       "    </tr>\n",
       "    <tr>\n",
       "      <th>2</th>\n",
       "      <td>35.847409</td>\n",
       "      <td>72.902198</td>\n",
       "      <td>0</td>\n",
       "    </tr>\n",
       "    <tr>\n",
       "      <th>3</th>\n",
       "      <td>60.182599</td>\n",
       "      <td>86.308552</td>\n",
       "      <td>1</td>\n",
       "    </tr>\n",
       "    <tr>\n",
       "      <th>4</th>\n",
       "      <td>79.032736</td>\n",
       "      <td>75.344376</td>\n",
       "      <td>1</td>\n",
       "    </tr>\n",
       "  </tbody>\n",
       "</table>\n",
       "</div>"
      ],
      "text/plain": [
       "   exam_1_score  exam_2_score  admitted\n",
       "0     34.623660     78.024693         0\n",
       "1     30.286711     43.894998         0\n",
       "2     35.847409     72.902198         0\n",
       "3     60.182599     86.308552         1\n",
       "4     79.032736     75.344376         1"
      ]
     },
     "execution_count": 2,
     "metadata": {},
     "output_type": "execute_result"
    }
   ],
   "source": [
    "data = pd.read_csv('ex2data1.txt', names=['exam_1_score', 'exam_2_score', 'admitted'])\n",
    "data.head()"
   ]
  },
  {
   "cell_type": "markdown",
   "metadata": {},
   "source": [
    "Now that we have our data loaded in, lets plot it and get a nice visualization of the data that we are working with"
   ]
  },
  {
   "cell_type": "code",
   "execution_count": 3,
   "metadata": {
    "scrolled": false
   },
   "outputs": [
    {
     "data": {
      "text/plain": [
       "Text(0, 0.5, 'Exam 2 Score')"
      ]
     },
     "execution_count": 3,
     "metadata": {},
     "output_type": "execute_result"
    },
    {
     "data": {
      "image/png": "[encoded data removed]",
      "text/plain": [
       "<Figure size 864x576 with 1 Axes>"
      ]
     },
     "metadata": {
      "needs_background": "light"
     },
     "output_type": "display_data"
    }
   ],
   "source": [
    "admitted = data[data['admitted'] == 1]\n",
    "not_admitted = data[data['admitted'] == 0]\n",
    "\n",
    "fig, ax = plt.subplots(figsize=(12,8))\n",
    "ax.scatter(admitted['exam_1_score'], admitted['exam_2_score'], marker='+', color=\"green\", label=\"Admitted\")\n",
    "ax.scatter(not_admitted['exam_1_score'], not_admitted['exam_2_score'], marker='o', color='red', label=\"Not admitted\")\n",
    "ax.legend()\n",
    "\n",
    "plt.xlabel('Exam 1 Score')\n",
    "plt.ylabel('Exam 2 Score')"
   ]
  },
  {
   "cell_type": "markdown",
   "metadata": {},
   "source": [
    "Before starting with the actual cost function, we have to first set up the sigmoid function. The sigmoid function is defined as: \n",
    "$$ g(z) = \\frac{1}{1 + e^{-z}} $$\n",
    "and our hypothesis is defined as: \n",
    "$$ h_\\Theta (x) = g(\\theta^Tx) $$"
   ]
  },
  {
   "cell_type": "code",
   "execution_count": 4,
   "metadata": {},
   "outputs": [],
   "source": [
    "def sigmoid(x):\n",
    "    return 1/(1 + np.e**(-x))"
   ]
  },
  {
   "cell_type": "markdown",
   "metadata": {},
   "source": [
    "Now that we implemented the sigmoid function, let's move onto implementing the cost function and gradient for linear regression"
   ]
  },
  {
   "cell_type": "code",
   "execution_count": 5,
   "metadata": {},
   "outputs": [],
   "source": [
    "def cost(theta, X, y):\n",
    "    m,n = X.shape\n",
    "    theta = np.reshape(theta, (3,1))\n",
    "    h = sigmoid(X @ theta)\n",
    "    inner = -y*np.log(h)-(1-y)*np.log(1-h)\n",
    "    return inner.sum()/m"
   ]
  },
  {
   "cell_type": "markdown",
   "metadata": {},
   "source": [
    "In order to test out our new cost function, we first need to set up our data."
   ]
  },
  {
   "cell_type": "code",
   "execution_count": 6,
   "metadata": {},
   "outputs": [],
   "source": [
    "data.insert(0, 'ones', 1)"
   ]
  },
  {
   "cell_type": "code",
   "execution_count": 7,
   "metadata": {},
   "outputs": [
    {
     "data": {
      "text/html": [
       "<div>\n",
       "<style scoped>\n",
       "    .dataframe tbody tr th:only-of-type {\n",
       "        vertical-align: middle;\n",
       "    }\n",
       "\n",
       "    .dataframe tbody tr th {\n",
       "        vertical-align: top;\n",
       "    }\n",
       "\n",
       "    .dataframe thead th {\n",
       "        text-align: right;\n",
       "    }\n",
       "</style>\n",
       "<table border=\"1\" class=\"dataframe\">\n",
       "  <thead>\n",
       "    <tr style=\"text-align: right;\">\n",
       "      <th></th>\n",
       "      <th>ones</th>\n",
       "      <th>exam_1_score</th>\n",
       "      <th>exam_2_score</th>\n",
       "    </tr>\n",
       "  </thead>\n",
       "  <tbody>\n",
       "    <tr>\n",
       "      <th>0</th>\n",
       "      <td>1</td>\n",
       "      <td>34.623660</td>\n",
       "      <td>78.024693</td>\n",
       "    </tr>\n",
       "    <tr>\n",
       "      <th>1</th>\n",
       "      <td>1</td>\n",
       "      <td>30.286711</td>\n",
       "      <td>43.894998</td>\n",
       "    </tr>\n",
       "    <tr>\n",
       "      <th>2</th>\n",
       "      <td>1</td>\n",
       "      <td>35.847409</td>\n",
       "      <td>72.902198</td>\n",
       "    </tr>\n",
       "    <tr>\n",
       "      <th>3</th>\n",
       "      <td>1</td>\n",
       "      <td>60.182599</td>\n",
       "      <td>86.308552</td>\n",
       "    </tr>\n",
       "    <tr>\n",
       "      <th>4</th>\n",
       "      <td>1</td>\n",
       "      <td>79.032736</td>\n",
       "      <td>75.344376</td>\n",
       "    </tr>\n",
       "  </tbody>\n",
       "</table>\n",
       "</div>"
      ],
      "text/plain": [
       "   ones  exam_1_score  exam_2_score\n",
       "0     1     34.623660     78.024693\n",
       "1     1     30.286711     43.894998\n",
       "2     1     35.847409     72.902198\n",
       "3     1     60.182599     86.308552\n",
       "4     1     79.032736     75.344376"
      ]
     },
     "execution_count": 7,
     "metadata": {},
     "output_type": "execute_result"
    }
   ],
   "source": [
    "X = data.iloc[:, 0:len(data.columns)-1]\n",
    "X.head()"
   ]
  },
  {
   "cell_type": "code",
   "execution_count": 8,
   "metadata": {},
   "outputs": [
    {
     "data": {
      "text/html": [
       "<div>\n",
       "<style scoped>\n",
       "    .dataframe tbody tr th:only-of-type {\n",
       "        vertical-align: middle;\n",
       "    }\n",
       "\n",
       "    .dataframe tbody tr th {\n",
       "        vertical-align: top;\n",
       "    }\n",
       "\n",
       "    .dataframe thead th {\n",
       "        text-align: right;\n",
       "    }\n",
       "</style>\n",
       "<table border=\"1\" class=\"dataframe\">\n",
       "  <thead>\n",
       "    <tr style=\"text-align: right;\">\n",
       "      <th></th>\n",
       "      <th>admitted</th>\n",
       "    </tr>\n",
       "  </thead>\n",
       "  <tbody>\n",
       "    <tr>\n",
       "      <th>0</th>\n",
       "      <td>0</td>\n",
       "    </tr>\n",
       "    <tr>\n",
       "      <th>1</th>\n",
       "      <td>0</td>\n",
       "    </tr>\n",
       "    <tr>\n",
       "      <th>2</th>\n",
       "      <td>0</td>\n",
       "    </tr>\n",
       "    <tr>\n",
       "      <th>3</th>\n",
       "      <td>1</td>\n",
       "    </tr>\n",
       "    <tr>\n",
       "      <th>4</th>\n",
       "      <td>1</td>\n",
       "    </tr>\n",
       "  </tbody>\n",
       "</table>\n",
       "</div>"
      ],
      "text/plain": [
       "   admitted\n",
       "0         0\n",
       "1         0\n",
       "2         0\n",
       "3         1\n",
       "4         1"
      ]
     },
     "execution_count": 8,
     "metadata": {},
     "output_type": "execute_result"
    }
   ],
   "source": [
    "y = data.iloc[:, len(data.columns)-1: len(data.columns)]\n",
    "y.head()"
   ]
  },
  {
   "cell_type": "code",
   "execution_count": 9,
   "metadata": {},
   "outputs": [
    {
     "data": {
      "text/plain": [
       "(100, 3)"
      ]
     },
     "metadata": {},
     "output_type": "display_data"
    },
    {
     "data": {
      "text/plain": [
       "(100, 1)"
      ]
     },
     "metadata": {},
     "output_type": "display_data"
    },
    {
     "data": {
      "text/plain": [
       "(3,)"
      ]
     },
     "metadata": {},
     "output_type": "display_data"
    }
   ],
   "source": [
    "X = np.asarray(X)\n",
    "y = np.asarray(y)\n",
    "theta = np.array([0,0,0])\n",
    "display(X.shape, y.shape, theta.shape)"
   ]
  },
  {
   "cell_type": "markdown",
   "metadata": {},
   "source": [
    "Let's test out our cost function. Below you can see, with initial values of theta, the cost is about 0.693"
   ]
  },
  {
   "cell_type": "code",
   "execution_count": 10,
   "metadata": {},
   "outputs": [
    {
     "data": {
      "text/plain": [
       "0.6931471805599453"
      ]
     },
     "execution_count": 10,
     "metadata": {},
     "output_type": "execute_result"
    }
   ],
   "source": [
    "cost(theta, X, y)"
   ]
  },
  {
   "cell_type": "markdown",
   "metadata": {},
   "source": [
    "In order to train our logistic regression model, we also need a gradient descent function. We are going to feed both the cost function and the gradient descent function into the scipy function [fmin_bfgs](https://docs.scipy.org/doc/scipy/reference/generated/scipy.optimize.fmin_bfgs.html), a python equivalent to `fminunc` in the Coursera course"
   ]
  },
  {
   "cell_type": "code",
   "execution_count": 11,
   "metadata": {},
   "outputs": [],
   "source": [
    "def gradient(theta, X, y):\n",
    "    m,n = X.shape\n",
    "    theta = np.reshape(theta, (3,1))\n",
    "    error = sigmoid(X @ theta) - y # 100x3 * 3x1 = 100x1\n",
    "    inside = X.T @ error # 3x100 * 100x1 = 3x1\n",
    "    return inside.flatten()/m"
   ]
  },
  {
   "cell_type": "code",
   "execution_count": 12,
   "metadata": {},
   "outputs": [
    {
     "name": "stdout",
     "output_type": "stream",
     "text": [
      "Optimization terminated successfully.\n",
      "         Current function value: 0.203498\n",
      "         Iterations: 23\n",
      "         Function evaluations: 31\n",
      "         Gradient evaluations: 31\n"
     ]
    }
   ],
   "source": [
    "result = opt.fmin_bfgs(cost, theta, fprime=gradient, args=(X, y))\n",
    "optimal_theta = result"
   ]
  },
  {
   "cell_type": "markdown",
   "metadata": {},
   "source": [
    "As you can see, after using fmin_bfgs, the cost when using the optimal parameters is about 0.203. Below is a graph of what the decision boundary looks like when using the optimal parameters. "
   ]
  },
  {
   "cell_type": "code",
   "execution_count": 13,
   "metadata": {},
   "outputs": [
    {
     "data": {
      "text/plain": [
       "<matplotlib.legend.Legend at 0x10162cf6d8>"
      ]
     },
     "execution_count": 13,
     "metadata": {},
     "output_type": "execute_result"
    },
    {
     "data": {
      "image/png": "[encoded data removed]",
      "text/plain": [
       "<Figure size 864x576 with 1 Axes>"
      ]
     },
     "metadata": {
      "needs_background": "light"
     },
     "output_type": "display_data"
    }
   ],
   "source": [
    "x = np.linspace(data['exam_1_score'].min(), data['exam_1_score'].max(), 100)\n",
    "f = (-1/optimal_theta[2])*(optimal_theta[1]*x + optimal_theta[0])\n",
    "\n",
    "fig, ax = plt.subplots(figsize=(12,8))\n",
    "ax.scatter(admitted['exam_1_score'], admitted['exam_2_score'], marker='+', color=\"green\", label=\"Admitted\")\n",
    "ax.scatter(not_admitted['exam_1_score'], not_admitted['exam_2_score'], marker='o', color='red', label=\"Not admitted\")\n",
    "ax.plot(x, f, 'b', label=\"Decision boundary\")\n",
    "ax.legend()"
   ]
  },
  {
   "cell_type": "markdown",
   "metadata": {},
   "source": [
    "Using the optimal parameters, we can predict that a student with an exam 1 score of 45 and an exam score of 85 has an admission probability of 0.776"
   ]
  },
  {
   "cell_type": "code",
   "execution_count": 14,
   "metadata": {},
   "outputs": [
    {
     "data": {
      "text/plain": [
       "0.776290724058894"
      ]
     },
     "execution_count": 14,
     "metadata": {},
     "output_type": "execute_result"
    }
   ],
   "source": [
    "probability = sigmoid(optimal_theta[0] + optimal_theta[1]*(45) + optimal_theta[2]*(85))\n",
    "probability"
   ]
  },
  {
   "cell_type": "markdown",
   "metadata": {},
   "source": [
    "To extend this a bit further, we can also define a function predict() that will produce \"1\" or \"0\" predictions given a dataset and a learned parameter vector $\\theta$. Using this function, we can find the training accuracy of our classifier by computing the percentage of examples it got correct"
   ]
  },
  {
   "cell_type": "code",
   "execution_count": 15,
   "metadata": {},
   "outputs": [],
   "source": [
    "# X is 100x3\n",
    "# theta is 1x3\n",
    "def predict(X, theta): \n",
    "    theta = np.reshape(theta, (3,1)) # theta is now 3x1\n",
    "    probability = sigmoid(X @ theta)\n",
    "    for i in range(np.size(probability, 0)):\n",
    "        if probability[i][0] > 0.5:\n",
    "            probability[i][0] = 1\n",
    "        else: \n",
    "            probability[i][0] = 0\n",
    "    return probability.astype(int)"
   ]
  },
  {
   "cell_type": "code",
   "execution_count": 16,
   "metadata": {},
   "outputs": [],
   "source": [
    "def trainingAcc(actual, predicted):\n",
    "    m = np.size(actual, 0)\n",
    "    numCorrect = 0\n",
    "    for i in range(m):\n",
    "        if actual[i][0] == predicted[i][0]:\n",
    "            numCorrect += 1\n",
    "    return numCorrect/m"
   ]
  },
  {
   "cell_type": "markdown",
   "metadata": {},
   "source": [
    "We end up getting a training accuracy of 89%!!!"
   ]
  },
  {
   "cell_type": "code",
   "execution_count": 17,
   "metadata": {},
   "outputs": [
    {
     "data": {
      "text/plain": [
       "0.89"
      ]
     },
     "execution_count": 17,
     "metadata": {},
     "output_type": "execute_result"
    }
   ],
   "source": [
    "trainingAcc(y, predict(X, optimal_theta))"
   ]
  },
  {
   "cell_type": "markdown",
   "metadata": {},
   "source": [
    "# Regularized Logistic Regression"
   ]
  },
  {
   "cell_type": "markdown",
   "metadata": {},
   "source": [
    "In this part of the exercise, we will implement regularized logistic regression to predict whether microchips from a fabrication plant passes quality assurance (QA). We are provided a dataset of test results on past microships which we can use to build a logistic regression model and predict whether microchips should be accepted or rejected.\n",
    "\n",
    "Let's first load in the dataset."
   ]
  },
  {
   "cell_type": "code",
   "execution_count": 18,
   "metadata": {},
   "outputs": [
    {
     "data": {
      "text/html": [
       "<div>\n",
       "<style scoped>\n",
       "    .dataframe tbody tr th:only-of-type {\n",
       "        vertical-align: middle;\n",
       "    }\n",
       "\n",
       "    .dataframe tbody tr th {\n",
       "        vertical-align: top;\n",
       "    }\n",
       "\n",
       "    .dataframe thead th {\n",
       "        text-align: right;\n",
       "    }\n",
       "</style>\n",
       "<table border=\"1\" class=\"dataframe\">\n",
       "  <thead>\n",
       "    <tr style=\"text-align: right;\">\n",
       "      <th></th>\n",
       "      <th>test_1</th>\n",
       "      <th>test_2</th>\n",
       "      <th>accepted</th>\n",
       "    </tr>\n",
       "  </thead>\n",
       "  <tbody>\n",
       "    <tr>\n",
       "      <th>0</th>\n",
       "      <td>0.051267</td>\n",
       "      <td>0.69956</td>\n",
       "      <td>1</td>\n",
       "    </tr>\n",
       "    <tr>\n",
       "      <th>1</th>\n",
       "      <td>-0.092742</td>\n",
       "      <td>0.68494</td>\n",
       "      <td>1</td>\n",
       "    </tr>\n",
       "    <tr>\n",
       "      <th>2</th>\n",
       "      <td>-0.213710</td>\n",
       "      <td>0.69225</td>\n",
       "      <td>1</td>\n",
       "    </tr>\n",
       "    <tr>\n",
       "      <th>3</th>\n",
       "      <td>-0.375000</td>\n",
       "      <td>0.50219</td>\n",
       "      <td>1</td>\n",
       "    </tr>\n",
       "    <tr>\n",
       "      <th>4</th>\n",
       "      <td>-0.513250</td>\n",
       "      <td>0.46564</td>\n",
       "      <td>1</td>\n",
       "    </tr>\n",
       "  </tbody>\n",
       "</table>\n",
       "</div>"
      ],
      "text/plain": [
       "     test_1   test_2  accepted\n",
       "0  0.051267  0.69956         1\n",
       "1 -0.092742  0.68494         1\n",
       "2 -0.213710  0.69225         1\n",
       "3 -0.375000  0.50219         1\n",
       "4 -0.513250  0.46564         1"
      ]
     },
     "execution_count": 18,
     "metadata": {},
     "output_type": "execute_result"
    }
   ],
   "source": [
    "data = pd.read_csv('ex2data2.txt', names=['test_1', 'test_2', 'accepted'])\n",
    "data.head()"
   ]
  },
  {
   "cell_type": "code",
   "execution_count": 19,
   "metadata": {},
   "outputs": [
    {
     "data": {
      "text/plain": [
       "Text(0, 0.5, 'Microchip Test 2')"
      ]
     },
     "execution_count": 19,
     "metadata": {},
     "output_type": "execute_result"
    },
    {
     "data": {
      "image/png": "[encoded data removed]",
      "text/plain": [
       "<Figure size 864x576 with 1 Axes>"
      ]
     },
     "metadata": {
      "needs_background": "light"
     },
     "output_type": "display_data"
    }
   ],
   "source": [
    "accepted = data[data['accepted'] == 1]\n",
    "not_accepted = data[data['accepted'] == 0]\n",
    "\n",
    "fig, ax = plt.subplots(figsize=(12,8))\n",
    "ax.scatter(accepted['test_1'], accepted['test_2'], marker='+', color=\"green\", label=\"Accepted\")\n",
    "ax.scatter(not_accepted['test_1'], not_accepted['test_2'], marker='o', color='red', label=\"Rejected\")\n",
    "ax.legend()\n",
    "\n",
    "plt.xlabel('Microchip Test 1')\n",
    "plt.ylabel('Microchip Test 2')"
   ]
  },
  {
   "cell_type": "markdown",
   "metadata": {},
   "source": [
    "As we can see, this data will not fair well with a simple linear decision boundary. In order to accomodate this, we will map the features into all polynomial terms of $x_1$ and $x_2$ up to the sixth power. As a result, we will use our two features to get a 28-dimensional vector."
   ]
  },
  {
   "cell_type": "code",
   "execution_count": 20,
   "metadata": {},
   "outputs": [],
   "source": [
    "from sklearn.preprocessing import PolynomialFeatures\n",
    "\n",
    "def mapFeature(X):\n",
    "    poly = PolynomialFeatures(6)\n",
    "    return poly.fit_transform(X)"
   ]
  },
  {
   "cell_type": "code",
   "execution_count": 21,
   "metadata": {},
   "outputs": [
    {
     "data": {
      "text/html": [
       "<div>\n",
       "<style scoped>\n",
       "    .dataframe tbody tr th:only-of-type {\n",
       "        vertical-align: middle;\n",
       "    }\n",
       "\n",
       "    .dataframe tbody tr th {\n",
       "        vertical-align: top;\n",
       "    }\n",
       "\n",
       "    .dataframe thead th {\n",
       "        text-align: right;\n",
       "    }\n",
       "</style>\n",
       "<table border=\"1\" class=\"dataframe\">\n",
       "  <thead>\n",
       "    <tr style=\"text-align: right;\">\n",
       "      <th></th>\n",
       "      <th>test_1</th>\n",
       "      <th>test_2</th>\n",
       "    </tr>\n",
       "  </thead>\n",
       "  <tbody>\n",
       "    <tr>\n",
       "      <th>0</th>\n",
       "      <td>0.051267</td>\n",
       "      <td>0.69956</td>\n",
       "    </tr>\n",
       "    <tr>\n",
       "      <th>1</th>\n",
       "      <td>-0.092742</td>\n",
       "      <td>0.68494</td>\n",
       "    </tr>\n",
       "    <tr>\n",
       "      <th>2</th>\n",
       "      <td>-0.213710</td>\n",
       "      <td>0.69225</td>\n",
       "    </tr>\n",
       "    <tr>\n",
       "      <th>3</th>\n",
       "      <td>-0.375000</td>\n",
       "      <td>0.50219</td>\n",
       "    </tr>\n",
       "    <tr>\n",
       "      <th>4</th>\n",
       "      <td>-0.513250</td>\n",
       "      <td>0.46564</td>\n",
       "    </tr>\n",
       "  </tbody>\n",
       "</table>\n",
       "</div>"
      ],
      "text/plain": [
       "     test_1   test_2\n",
       "0  0.051267  0.69956\n",
       "1 -0.092742  0.68494\n",
       "2 -0.213710  0.69225\n",
       "3 -0.375000  0.50219\n",
       "4 -0.513250  0.46564"
      ]
     },
     "execution_count": 21,
     "metadata": {},
     "output_type": "execute_result"
    }
   ],
   "source": [
    "X = data.iloc[:, 0:len(data.columns)-1]\n",
    "X.head()"
   ]
  },
  {
   "cell_type": "code",
   "execution_count": 22,
   "metadata": {},
   "outputs": [
    {
     "data": {
      "text/html": [
       "<div>\n",
       "<style scoped>\n",
       "    .dataframe tbody tr th:only-of-type {\n",
       "        vertical-align: middle;\n",
       "    }\n",
       "\n",
       "    .dataframe tbody tr th {\n",
       "        vertical-align: top;\n",
       "    }\n",
       "\n",
       "    .dataframe thead th {\n",
       "        text-align: right;\n",
       "    }\n",
       "</style>\n",
       "<table border=\"1\" class=\"dataframe\">\n",
       "  <thead>\n",
       "    <tr style=\"text-align: right;\">\n",
       "      <th></th>\n",
       "      <th>accepted</th>\n",
       "    </tr>\n",
       "  </thead>\n",
       "  <tbody>\n",
       "    <tr>\n",
       "      <th>0</th>\n",
       "      <td>1</td>\n",
       "    </tr>\n",
       "    <tr>\n",
       "      <th>1</th>\n",
       "      <td>1</td>\n",
       "    </tr>\n",
       "    <tr>\n",
       "      <th>2</th>\n",
       "      <td>1</td>\n",
       "    </tr>\n",
       "    <tr>\n",
       "      <th>3</th>\n",
       "      <td>1</td>\n",
       "    </tr>\n",
       "    <tr>\n",
       "      <th>4</th>\n",
       "      <td>1</td>\n",
       "    </tr>\n",
       "  </tbody>\n",
       "</table>\n",
       "</div>"
      ],
      "text/plain": [
       "   accepted\n",
       "0         1\n",
       "1         1\n",
       "2         1\n",
       "3         1\n",
       "4         1"
      ]
     },
     "execution_count": 22,
     "metadata": {},
     "output_type": "execute_result"
    }
   ],
   "source": [
    "y = data.iloc[:, len(data.columns)-1: len(data.columns)]\n",
    "y.head()"
   ]
  },
  {
   "cell_type": "code",
   "execution_count": 23,
   "metadata": {},
   "outputs": [
    {
     "data": {
      "text/plain": [
       "(118, 28)"
      ]
     },
     "metadata": {},
     "output_type": "display_data"
    },
    {
     "data": {
      "text/plain": [
       "(118, 1)"
      ]
     },
     "metadata": {},
     "output_type": "display_data"
    },
    {
     "data": {
      "text/plain": [
       "(28,)"
      ]
     },
     "metadata": {},
     "output_type": "display_data"
    }
   ],
   "source": [
    "X = mapFeature(np.asarray(X))\n",
    "y = np.asarray(y)\n",
    "theta = np.zeros(np.size(X, 1))\n",
    "display(X.shape, y.shape, theta.shape)"
   ]
  },
  {
   "cell_type": "markdown",
   "metadata": {},
   "source": [
    "Now that we have X, y, and $\\theta$ set up, we are ready to implement the cost function and gradient for regularized logistic regression. "
   ]
  },
  {
   "cell_type": "code",
   "execution_count": 33,
   "metadata": {},
   "outputs": [],
   "source": [
    "def costReg(theta, X, y, regParam):\n",
    "    m,n = X.shape\n",
    "    theta = np.reshape(theta, (n,1))\n",
    "    h = sigmoid(X @ theta)\n",
    "    inner = -y*np.log(h)-(1-y)*np.log(1-h)\n",
    "    outer = inner.sum()/m\n",
    "    reg = (regParam/(2*m))*(theta**2).sum()\n",
    "    print(outer + reg)\n",
    "    return outer + reg"
   ]
  },
  {
   "cell_type": "code",
   "execution_count": 34,
   "metadata": {},
   "outputs": [
    {
     "name": "stdout",
     "output_type": "stream",
     "text": [
      "0.6931471805599454\n"
     ]
    },
    {
     "data": {
      "text/plain": [
       "0.6931471805599454"
      ]
     },
     "execution_count": 34,
     "metadata": {},
     "output_type": "execute_result"
    }
   ],
   "source": [
    "costReg(theta, X, y, 10)"
   ]
  },
  {
   "cell_type": "code",
   "execution_count": 35,
   "metadata": {},
   "outputs": [],
   "source": [
    "def gradientReg(theta, X, y, regParam):\n",
    "    m,n = X.shape\n",
    "    theta = np.reshape(theta, (n,1))\n",
    "    h = sigmoid(X @ theta)\n",
    "    error = h - y # 118x1\n",
    "#     inside = X.T @ error # 28x118 * 118x1 = 28x1\n",
    "    grad = np.zeros(n)\n",
    "    for i in range(n):\n",
    "        term = error * X[:,i]\n",
    "#         inside[i] += regParam * theta[i]\n",
    "        if (i == 0):\n",
    "            grad[i] = term.sum() / m\n",
    "        else:\n",
    "            grad[i] = (term.sum() / m) + ((regParam / m) * theta[i])\n",
    "    return grad.flatten()"
   ]
  },
  {
   "cell_type": "code",
   "execution_count": 36,
   "metadata": {},
   "outputs": [
    {
     "data": {
      "text/plain": [
       "array([8.47457627e-03, 1.87880932e-02, 7.77711864e-05, 5.03446395e-02,\n",
       "       1.15013308e-02, 3.76648474e-02, 1.83559872e-02, 7.32393391e-03,\n",
       "       8.19244468e-03, 2.34764889e-02, 3.93486234e-02, 2.23923907e-03,\n",
       "       1.28600503e-02, 3.09593720e-03, 3.93028171e-02, 1.99707467e-02,\n",
       "       4.32983232e-03, 3.38643902e-03, 5.83822078e-03, 4.47629067e-03,\n",
       "       3.10079849e-02, 3.10312442e-02, 1.09740238e-03, 6.31570797e-03,\n",
       "       4.08503006e-04, 7.26504316e-03, 1.37646175e-03, 3.87936363e-02])"
      ]
     },
     "execution_count": 36,
     "metadata": {},
     "output_type": "execute_result"
    }
   ],
   "source": [
    "gradientReg(theta, X, y, 1)"
   ]
  },
  {
   "cell_type": "code",
   "execution_count": 39,
   "metadata": {},
   "outputs": [
    {
     "name": "stdout",
     "output_type": "stream",
     "text": [
      "0.6931471805599454\n",
      "0.6812915551427071\n",
      "0.6605048214931363\n",
      "0.6292228973992949\n",
      "0.6051322051849237\n",
      "0.5877062121543527\n",
      "0.5746989853728892\n",
      "0.5665339984148879\n",
      "0.5592509371268388\n",
      "0.5538982958256707\n",
      "0.5491999456244622\n",
      "0.5429516983606665\n",
      "0.5390395255325436\n",
      "0.5382646785619711\n",
      "0.5382461281905473\n",
      "0.538236040913958\n",
      "0.538212999128372\n",
      "0.5381815713540835\n",
      "0.5380839987645182\n",
      "0.5379385968948933\n",
      "0.5377430272376578\n",
      "0.5372506973679774\n",
      "0.53678431793091\n",
      "0.5364150146888711\n",
      "0.5359616656799369\n",
      "0.5358227079510497\n",
      "0.535728277333297\n",
      "0.5356364524123702\n",
      "0.535591294105473\n",
      "0.5356346446823362\n",
      "0.5355945968939168\n",
      "0.5355916952314642\n",
      "0.5355913464235489\n",
      "0.535591300995322\n",
      "0.5355912950139664\n",
      "0.535591294225287\n",
      "0.5355912941212746\n",
      "0.5355912941075571\n",
      "0.5355912941057479\n",
      "0.5355912941055093\n",
      "0.5355912941054779\n",
      "0.5355912941054737\n",
      "0.5355912941054732\n",
      "0.535591294105473\n",
      "0.5355912941054732\n",
      "0.5355912941054731\n",
      "0.535591294105473\n",
      "0.5355912941054731\n",
      "0.535591294105473\n",
      "0.535591294105473\n",
      "0.5355912941054731\n",
      "0.535591294105473\n",
      "0.535591294105473\n",
      "0.5355912941054731\n",
      "0.535591294105473\n",
      "0.535591294105473\n",
      "0.5355912941054731\n",
      "0.535591294105473\n",
      "0.535591294105473\n",
      "0.535591294105473\n",
      "0.5355912941054731\n",
      "0.535591294105473\n",
      "0.535591294105473\n",
      "0.535591294105473\n",
      "0.535591294105473\n",
      "0.535591294105473\n",
      "0.535591294105473\n",
      "0.535591294105473\n",
      "0.535591294105473\n",
      "0.535591294105473\n",
      "0.535591294105473\n",
      "0.535591294105473\n",
      "0.535591294105473\n",
      "0.5355912941054731\n",
      "0.535591294105473\n",
      "0.535591294105473\n",
      "0.535591294105473\n",
      "0.535591294105473\n",
      "0.535591294105473\n",
      "0.535591294105473\n",
      "0.5355912941054731\n",
      "0.535591294105473\n",
      "0.535591294105473\n",
      "0.535591294105473\n",
      "0.535591294105473\n",
      "0.535591294105473\n",
      "0.5355912941054731\n",
      "0.535591294105473\n",
      "0.535591294105473\n",
      "0.5355912941054731\n",
      "0.535591294105473\n",
      "0.535591294105473\n",
      "0.535591294105473\n",
      "0.535591294105473\n",
      "0.535591294105473\n",
      "0.5355912941054731\n",
      "0.535591294105473\n",
      "0.535591294105473\n",
      "0.5355912941054731\n",
      "0.535591294105473\n",
      "0.535591294105473\n",
      "0.5355912941054731\n",
      "0.535591294105473\n",
      "0.535591294105473\n",
      "0.5355912941054731\n",
      "0.535591294105473\n",
      "0.535591294105473\n",
      "0.5355912941054731\n",
      "0.535591294105473\n",
      "0.5356346446823362\n",
      "0.5355998649359306\n",
      "0.5355934102778516\n",
      "0.5355918896921029\n",
      "0.5355914671858703\n",
      "0.5355913449413325\n",
      "0.5355913090811075\n",
      "0.5355912985211118\n",
      "0.5355912954077879\n",
      "0.535591294489598\n",
      "0.5355912942187754\n",
      "0.5355912941388932\n",
      "Warning: Desired error not necessarily achieved due to precision loss.\n",
      "         Current function value: 0.535591\n",
      "         Iterations: 25\n",
      "         Function evaluations: 121\n",
      "         Gradient evaluations: 109\n"
     ]
    },
    {
     "data": {
      "text/plain": [
       "array([ 1.22936289,  0.63244485,  1.19453878, -1.974858  , -0.91081349,\n",
       "       -1.31288739,  0.1278769 , -0.37280756, -0.38208417, -0.1659471 ,\n",
       "       -1.45886406, -0.09425439, -0.59816669, -0.28669511, -1.18162912,\n",
       "       -0.2465451 , -0.22356158, -0.06635879, -0.26965296, -0.30821223,\n",
       "       -0.50672174, -1.06313076, -0.0044257 , -0.2889401 , -0.00588416,\n",
       "       -0.31972433, -0.15633712, -0.98598224])"
      ]
     },
     "execution_count": 39,
     "metadata": {},
     "output_type": "execute_result"
    }
   ],
   "source": [
    "result = opt.fmin_bfgs(costReg, theta, fprime=gradientReg, args=(X, y, 1))\n",
    "optimal_theta = result\n",
    "optimal_theta"
   ]
  },
  {
   "cell_type": "code",
   "execution_count": null,
   "metadata": {},
   "outputs": [],
   "source": []
  }
 ],
 "metadata": {
  "kernelspec": {
   "display_name": "Python 3",
   "language": "python",
   "name": "python3"
  },
  "language_info": {
   "codemirror_mode": {
    "name": "ipython",
    "version": 3
   },
   "file_extension": ".py",
   "mimetype": "text/x-python",
   "name": "python",
   "nbconvert_exporter": "python",
   "pygments_lexer": "ipython3",
   "version": "3.7.1"
  }
 },
 "nbformat": 4,
 "nbformat_minor": 2
}
